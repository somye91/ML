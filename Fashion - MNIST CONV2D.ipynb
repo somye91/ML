{
 "cells": [
  {
   "cell_type": "code",
   "execution_count": 2,
   "metadata": {},
   "outputs": [],
   "source": [
    "import torch\n",
    "import torch.nn as nn\n",
    "import torch.nn.functional as F\n",
    "import torchvision\n",
    "import torchvision.transforms as transforms\n",
    "import torch.optim as optim\n",
    "from torch.utils.tensorboard import SummaryWriter\n",
    "import numpy as np\n",
    "import matplotlib.pyplot as plt\n",
    "torch.set_printoptions(linewidth=120)"
   ]
  },
  {
   "cell_type": "code",
   "execution_count": 5,
   "metadata": {},
   "outputs": [],
   "source": [
    "train_set=torchvision.datasets.FashionMNIST(\n",
    "root='./data/FashionMNIST'\n",
    ", train=True\n",
    ",download=True\n",
    ",transform=transforms.Compose([\n",
    "    transforms.ToTensor()\n",
    "]))\n"
   ]
  },
  {
   "cell_type": "markdown",
   "metadata": {},
   "source": [
    "In the above example we are extracting Fashion MNIST train set and loading it to a loader. The train_loader will be a tuple of images,labels in 100 batches each"
   ]
  },
  {
   "cell_type": "code",
   "execution_count": 11,
   "metadata": {},
   "outputs": [],
   "source": [
    "image,label=next(iter(train_set))"
   ]
  },
  {
   "cell_type": "code",
   "execution_count": 15,
   "metadata": {},
   "outputs": [
    {
     "name": "stdout",
     "output_type": "stream",
     "text": [
      "torch.Size([1, 28, 28])\n",
      "9\n"
     ]
    }
   ],
   "source": [
    "print(image.shape)\n",
    "print(label)"
   ]
  },
  {
   "cell_type": "markdown",
   "metadata": {},
   "source": [
    "In the above example train_set is a tensor of tuples, we can iterate over the tuple with next and iter. To get the first element we do next(iter(train_set)) which returns a tuple of an image and the \n",
    "corresponding label\n",
    "But since we need batches of inputs we will not use train_set, but rather a train_loader that automatically puts our data into batches"
   ]
  },
  {
   "cell_type": "code",
   "execution_count": 24,
   "metadata": {},
   "outputs": [],
   "source": [
    "train_loader= torch.utils.data.DataLoader(\n",
    "    train_set, batch_size=100)\n",
    "\n"
   ]
  },
  {
   "cell_type": "code",
   "execution_count": 25,
   "metadata": {},
   "outputs": [],
   "source": [
    "images,labels=next(iter(train_loader))"
   ]
  },
  {
   "cell_type": "code",
   "execution_count": 26,
   "metadata": {},
   "outputs": [
    {
     "name": "stdout",
     "output_type": "stream",
     "text": [
      "torch.Size([100, 1, 28, 28])\n",
      "torch.Size([100])\n"
     ]
    }
   ],
   "source": [
    "print(images.shape)\n",
    "print(labels.shape)"
   ]
  },
  {
   "cell_type": "markdown",
   "metadata": {},
   "source": [
    "As you see above we will parse train_loader this time using next(iter()). This time this gives us not 1 image and label, but rather a batch of images (100) and its corresponding labels. We unpack first batch into images, labels variables.\n",
    "The shape of images is  100 X 1 X 28 X 28    : This means 100 samples, 1 channel, 28X28 Height and width\n",
    "Remember our Conv2D layer expects input in 4D with the first dimension as batch\n",
    "\n",
    "See below, we will also print the first image with matplotlib and the label\n",
    "We have to squeeze the image[0] since its of shape 1X28X28. We have to get rid of the first color channel dimension so that we only have 28X28. We could also have done a reshape manually"
   ]
  },
  {
   "cell_type": "code",
   "execution_count": 32,
   "metadata": {},
   "outputs": [
    {
     "name": "stdout",
     "output_type": "stream",
     "text": [
      "tensor(9)\n"
     ]
    },
    {
     "data": {
      "image/png": "[encoded data removed]",
      "text/plain": [
       "<Figure size 432x288 with 1 Axes>"
      ]
     },
     "metadata": {
      "needs_background": "light"
     },
     "output_type": "display_data"
    }
   ],
   "source": [
    "plt.imshow(images[0].squeeze(), cmap='gray')\n",
    "print(labels[0])"
   ]
  },
  {
   "cell_type": "markdown",
   "metadata": {},
   "source": [
    "Lets define our Neural Network class now. We have to create a class that extends nn.Module class"
   ]
  },
  {
   "cell_type": "code",
   "execution_count": 33,
   "metadata": {},
   "outputs": [],
   "source": [
    "class Network(nn.Module):\n",
    "    \n",
    "    def __init__(self):\n",
    "        super(Network,self).__init__()\n",
    "        self.conv1 = nn.Conv2d(in_channels = 1 , out_channels=6, kernel_size=5)   #First layer in_channel=1 since our input has only 1 channel\n",
    "        self.conv2 = nn.Conv2d(in_channels=6, out_channels=12, kernel_size=5)\n",
    "        ##Fully connectd layers below\n",
    "        self.fc1=nn.Linear(in_features=12*4*4, out_features=120)\n",
    "        self.fc2=nn.Linear(in_features=120, out_features=60)\n",
    "        self.out=nn.Linear(in_features=60, out_features=10)   ##Since we have 10 classes to predict \n",
    "        \n",
    "    def forward(self, t):\n",
    "            # (1) input layer\n",
    "            t = t\n",
    "\n",
    "            # (2) hidden conv layer\n",
    "            t = self.conv1(t)\n",
    "            t = F.relu(t)\n",
    "            t = F.max_pool2d(t, kernel_size=2, stride=2)\n",
    "\n",
    "            # (3) hidden conv layer\n",
    "            t = self.conv2(t)\n",
    "            t = F.relu(t)\n",
    "            t = F.max_pool2d(t, kernel_size=2, stride=2)\n",
    "\n",
    "            # (4) hidden linear layer\n",
    "            t = t.reshape(-1, 12 * 4 * 4)\n",
    "            t = self.fc1(t)\n",
    "            t = F.relu(t)\n",
    "\n",
    "            # (5) hidden linear layer\n",
    "            t = self.fc2(t)\n",
    "            t = F.relu(t)\n",
    "\n",
    "            # (6) output layer\n",
    "            t = self.out(t)\n",
    "            #t = F.softmax(t, dim=1)\n",
    "\n",
    "            return t\n",
    "        "
   ]
  },
  {
   "cell_type": "markdown",
   "metadata": {},
   "source": [
    "https://deeplizard.com/learn/video/cin4YcGBh3Q\n",
    "How to calculate the output size of our tensor when it comes out of CNN. How did we know that output of our second CNN and input of our first linear layer would be 12*4*4 ? Check the URL\n"
   ]
  },
  {
   "cell_type": "code",
   "execution_count": 34,
   "metadata": {},
   "outputs": [],
   "source": [
    "network=Network()\n",
    "\n",
    "optimizer = optim.Adam(network.parameters(), lr=0.01)\n",
    "grid = torchvision.utils.make_grid(images)\n",
    "tb = SummaryWriter()\n",
    "tb.add_image('images', grid)\n",
    "tb.add_graph(network, images)"
   ]
  },
  {
   "cell_type": "code",
   "execution_count": 35,
   "metadata": {},
   "outputs": [],
   "source": [
    "def get_num_correct(preds, labels):\n",
    "    return preds.argmax(dim=1).eq(labels).sum().item()"
   ]
  },
  {
   "cell_type": "markdown",
   "metadata": {},
   "source": [
    "The above function takes preds an labels as tensors and checks how many predictions were actually true\n",
    "Remember labeles are 1D arrays of length of the batch but preds are [batches X 10]\n"
   ]
  },
  {
   "cell_type": "code",
   "execution_count": 37,
   "metadata": {},
   "outputs": [
    {
     "name": "stdout",
     "output_type": "stream",
     "text": [
      "epoch: 0 total_correct: 46749 loss: 352.16626474261284\n",
      "epoch: 1 total_correct: 51162 loss: 240.68973118066788\n",
      "epoch: 2 total_correct: 51762 loss: 221.64709624648094\n",
      "epoch: 3 total_correct: 52125 loss: 211.5208581984043\n",
      "epoch: 4 total_correct: 52378 loss: 205.71297426521778\n",
      "epoch: 5 total_correct: 52478 loss: 203.5812717974186\n",
      "epoch: 6 total_correct: 52814 loss: 194.7864325940609\n",
      "epoch: 7 total_correct: 52801 loss: 195.06331293284893\n",
      "epoch: 8 total_correct: 52888 loss: 191.9291991367936\n",
      "epoch: 9 total_correct: 52952 loss: 189.80868123471737\n"
     ]
    }
   ],
   "source": [
    "for epoch in range(10):\n",
    "    total_loss=0\n",
    "    total_correct=0\n",
    "    for batch in train_loader:\n",
    "        images,labels=batch\n",
    "        preds=network(images)\n",
    "        loss = F.cross_entropy(preds, labels)\n",
    "        optimizer.zero_grad()\n",
    "        loss.backward()\n",
    "        optimizer.step()\n",
    "        \n",
    "        total_loss= total_loss+ loss.item()\n",
    "        total_correct=total_correct+ get_num_correct(preds,labels)\n",
    "    tb.add_scalar('Loss', total_loss, epoch)\n",
    "    tb.add_scalar('Number Correct', total_correct, epoch)\n",
    "    tb.add_scalar('Accuracy', total_correct / len(train_set), epoch)\n",
    "\n",
    "    tb.add_histogram('conv1.bias', network.conv1.bias, epoch)\n",
    "    tb.add_histogram('conv1.weight', network.conv1.weight, epoch)\n",
    "    tb.add_histogram(\n",
    "        'conv1.weight.grad'\n",
    "        ,network.conv1.weight.grad\n",
    "        ,epoch\n",
    "    )\n",
    "    print(\n",
    "        \"epoch:\", epoch, \n",
    "        \"total_correct:\", total_correct, \n",
    "        \"loss:\", total_loss\n",
    "    )\n",
    "tb.close()"
   ]
  },
  {
   "cell_type": "code",
   "execution_count": null,
   "metadata": {},
   "outputs": [],
   "source": []
  }
 ],
 "metadata": {
  "kernelspec": {
   "display_name": "Python 3",
   "language": "python",
   "name": "python3"
  },
  "language_info": {
   "codemirror_mode": {
    "name": "ipython",
    "version": 3
   },
   "file_extension": ".py",
   "mimetype": "text/x-python",
   "name": "python",
   "nbconvert_exporter": "python",
   "pygments_lexer": "ipython3",
   "version": "3.7.4"
  }
 },
 "nbformat": 4,
 "nbformat_minor": 2
}
