{
 "cells": [
  {
   "cell_type": "code",
   "execution_count": 11,
   "metadata": {},
   "outputs": [],
   "source": [
    "import torch\n",
    "import torchvision\n",
    "import torchvision.transforms as transforms\n",
    "import matplotlib.pyplot as plt"
   ]
  },
  {
   "cell_type": "code",
   "execution_count": 28,
   "metadata": {},
   "outputs": [
    {
     "name": "stdout",
     "output_type": "stream",
     "text": [
      "Files already downloaded and verified\n"
     ]
    }
   ],
   "source": [
    "transform = transforms.Compose(\n",
    "    [transforms.ToTensor(),\n",
    "     transforms.Normalize((0.5, 0.5, 0.5), (0.5, 0.5, 0.5))])\n",
    "\n",
    "trainset = torchvision.datasets.CIFAR10(root='./data', train=True,\n",
    "                                        download=True, transform=transform)\n",
    "trainloader = torch.utils.data.DataLoader(trainset, batch_size=4,\n",
    "                                          shuffle=True, num_workers=2)\n",
    "classes = ('plane', 'car', 'bird', 'cat',\n",
    "           'deer', 'dog', 'frog', 'horse', 'ship', 'truck')   ##This is in order, so label 0 refers to plane, 1 to a car and so on"
   ]
  },
  {
   "cell_type": "code",
   "execution_count": 42,
   "metadata": {},
   "outputs": [],
   "source": [
    "image,label=trainset[0]"
   ]
  },
  {
   "cell_type": "code",
   "execution_count": 7,
   "metadata": {},
   "outputs": [
    {
     "data": {
      "text/plain": [
       "torch.Size([3, 32, 32])"
      ]
     },
     "execution_count": 7,
     "metadata": {},
     "output_type": "execute_result"
    }
   ],
   "source": [
    "image.shape"
   ]
  },
  {
   "cell_type": "code",
   "execution_count": 43,
   "metadata": {},
   "outputs": [
    {
     "name": "stdout",
     "output_type": "stream",
     "text": [
      "LABEL:  frog\n"
     ]
    },
    {
     "data": {
      "image/png": "[encoded data removed]",
      "text/plain": [
       "<Figure size 432x288 with 1 Axes>"
      ]
     },
     "metadata": {
      "needs_background": "light"
     },
     "output_type": "display_data"
    }
   ],
   "source": [
    "## Lets define a function that can print a particular image. Lets print the above image variable that has the first image\n",
    "def showimage(img,label):\n",
    "    img = img / 2 + 0.5     # unnormalize\n",
    "    img = img.permute(1,2,0)   ##Converts image to H X W X C. = 32 X 32 X 3 . WE have to put channels last for matplotlib\n",
    "    plt.imshow(img)\n",
    "    print(\"LABEL: \",classes[label])\n",
    "\n",
    "showimage(image,label)\n"
   ]
  },
  {
   "cell_type": "markdown",
   "metadata": {},
   "source": [
    "Lets define a CNN class now\n"
   ]
  },
  {
   "cell_type": "code",
   "execution_count": 48,
   "metadata": {},
   "outputs": [],
   "source": [
    "import torch.nn as nn\n",
    "import torch.nn.functional as F\n",
    "\n",
    "class Net(nn.Module):\n",
    "    def __init__(self):\n",
    "        super(Net,self).__init__()\n",
    "        self.conv1 = nn.Conv2d(in_channels=3, out_channels=6, kernel_size=5)\n",
    "        self.conv2 = nn.Conv2d(in_channels=6, out_channels=16, kernel_size=5)\n",
    "        ##Fully connectd layers below\n",
    "        self.fc1=nn.Linear(in_features=16*5*5, out_features=120)\n",
    "        self.fc2=nn.Linear(in_features=120, out_features=60)\n",
    "        self.out=nn.Linear(in_features=60, out_features=10)  \n",
    "        \n",
    "    def forward(self,t):\n",
    "        ##Input layer\n",
    "        t=t\n",
    "        \n",
    "        ##First layer of CONV2D\n",
    "        t=self.conv1(t)\n",
    "        t=F.relu(t)\n",
    "        t=F.max_pool2d(t,kernel_size=2,stride=2)\n",
    "        \n",
    "        ##Second layer of CONV2D\n",
    "        t=self.conv2(t)\n",
    "        t=F.relu(t)\n",
    "        t=F.max_pool2d(t,kernel_size=2,stride=2)\n",
    "        \n",
    "        ## Fully connected linear layer\n",
    "           ## (n-f+2p)/s +1\n",
    "            #n=32, f = 5 , s=1.    (32 -5 +0 )/1 + 1 = 28  :Image size after 1st conv\n",
    "            #n=28, f=2, s =2.   (28 -2 +0)/2 +1 = 14     : Image size after 1st maxpool\n",
    "            #n=14, f=5, s=1. (14-5+0)/1 +1 = 10        :Image size after 2nd conv\n",
    "            #n=10, f=2, s=2. (10-2+0)/2 + 1 = 5     : Image size after 2nd maxpool\n",
    "            #So after 2 convolutions and 2 maxpools we will get an image of H X W = 5 X 5  and with 16 channels, so 16 X 5 X 5\n",
    "            \n",
    "        t=t.view(-1,16*5*5) \n",
    "        t=self.fc1(t)\n",
    "        t=self.fc2(t)\n",
    "        t=self.out(t)\n",
    "        \n",
    "        return t\n",
    "    "
   ]
  },
  {
   "cell_type": "code",
   "execution_count": 49,
   "metadata": {},
   "outputs": [],
   "source": [
    "net=Net()\n",
    "import torch.optim as optim\n",
    "criterion = nn.CrossEntropyLoss()\n",
    "optimizer = optim.SGD(net.parameters(), lr=0.001, momentum=0.9)\n"
   ]
  },
  {
   "cell_type": "code",
   "execution_count": 50,
   "metadata": {},
   "outputs": [
    {
     "name": "stdout",
     "output_type": "stream",
     "text": [
      "[1,  2000] loss: 2.126\n",
      "[1,  4000] loss: 1.769\n",
      "[1,  6000] loss: 1.598\n",
      "[1,  8000] loss: 1.539\n",
      "[1, 10000] loss: 1.492\n",
      "[1, 12000] loss: 1.471\n",
      "[2,  2000] loss: 1.404\n",
      "[2,  4000] loss: 1.380\n",
      "[2,  6000] loss: 1.376\n",
      "[2,  8000] loss: 1.368\n",
      "[2, 10000] loss: 1.332\n",
      "[2, 12000] loss: 1.340\n",
      "Finished Training\n"
     ]
    }
   ],
   "source": [
    "for epoch in range(2):\n",
    "    running_loss=0.\n",
    "    for i , data in enumerate(trainloader,0):\n",
    "        images, labels=data\n",
    "        optimizer.zero_grad()\n",
    "        output=net(images)\n",
    "        loss=criterion(output,labels)\n",
    "        loss.backward()\n",
    "        optimizer.step()\n",
    "        running_loss+=loss\n",
    "        if i % 2000 == 1999:    # print every 2000 mini-batches\n",
    "            print('[%d, %5d] loss: %.3f' %\n",
    "                  (epoch + 1, i + 1, running_loss / 2000))\n",
    "            running_loss = 0.0\n",
    "\n",
    "print('Finished Training')\n",
    "    "
   ]
  },
  {
   "cell_type": "code",
   "execution_count": 51,
   "metadata": {},
   "outputs": [],
   "source": [
    "### Lets save the training data\n",
    "PATH = './cifar_net.pth'\n",
    "torch.save(net.state_dict(), PATH)"
   ]
  },
  {
   "cell_type": "markdown",
   "metadata": {},
   "source": [
    "Since our model is trained, its time we try it out on test data. Lets print a  sample"
   ]
  },
  {
   "cell_type": "code",
   "execution_count": 58,
   "metadata": {},
   "outputs": [
    {
     "name": "stdout",
     "output_type": "stream",
     "text": [
      "Files already downloaded and verified\n",
      "LABEL:  cat\n"
     ]
    },
    {
     "data": {
      "image/png": "[encoded data removed]",
      "text/plain": [
       "<Figure size 432x288 with 1 Axes>"
      ]
     },
     "metadata": {
      "needs_background": "light"
     },
     "output_type": "display_data"
    }
   ],
   "source": [
    "testset = torchvision.datasets.CIFAR10(root='./data', train=False,\n",
    "                                       download=True, transform=transform)\n",
    "testloader = torch.utils.data.DataLoader(testset, batch_size=4,\n",
    "                                         shuffle=False, num_workers=2)\n",
    "\n",
    "image,label= next(iter(testset))\n",
    "showimage(image,label)\n"
   ]
  },
  {
   "cell_type": "code",
   "execution_count": 63,
   "metadata": {},
   "outputs": [
    {
     "name": "stdout",
     "output_type": "stream",
     "text": [
      "torch.Size([3, 32, 32])\n"
     ]
    }
   ],
   "source": [
    "print(image.shape)\n"
   ]
  },
  {
   "cell_type": "markdown",
   "metadata": {},
   "source": [
    "Lets run our network on our first test set batch"
   ]
  },
  {
   "cell_type": "code",
   "execution_count": 67,
   "metadata": {},
   "outputs": [
    {
     "name": "stdout",
     "output_type": "stream",
     "text": [
      "tensor([[ 1.2211e-01, -2.0671e+00,  1.4990e+00,  2.4642e+00,  9.4043e-01,\n",
      "          1.4821e+00,  8.1222e-01, -1.7283e+00, -1.4111e-01, -1.3012e+00],\n",
      "        [ 3.5573e+00,  4.1891e+00, -1.6558e+00, -2.9955e+00, -3.1092e+00,\n",
      "         -4.0829e+00, -4.3591e+00, -4.9990e+00,  6.6877e+00,  3.7271e+00],\n",
      "        [ 1.4577e+00,  1.5139e+00,  1.5425e-01, -7.5935e-01, -5.1204e-01,\n",
      "         -1.8926e+00, -1.1575e+00, -2.2370e+00,  1.5476e+00,  3.8285e-01],\n",
      "        [ 2.9062e+00,  3.1709e-01, -5.8592e-03, -1.4132e+00, -6.5253e-01,\n",
      "         -1.6187e+00, -2.5015e+00, -8.2587e-01,  3.0745e+00,  6.7825e-03]],\n",
      "       grad_fn=<AddmmBackward>)\n",
      "tensor([3, 8, 8, 8])\n"
     ]
    }
   ],
   "source": [
    "images,labels=next(iter(testloader))\n",
    "net = Net()\n",
    "net.load_state_dict(torch.load(PATH))\n",
    "outputs = net(images)   ##Sending our first batch from test set to our model\n",
    "print(outputs)\n",
    "print(outputs.argmax(dim=1))   ## Printing the highest number's index in every row"
   ]
  },
  {
   "cell_type": "code",
   "execution_count": 69,
   "metadata": {},
   "outputs": [
    {
     "name": "stdout",
     "output_type": "stream",
     "text": [
      "tensor([3, 8, 8, 0])\n"
     ]
    }
   ],
   "source": [
    "print (labels)   ##These are the actual labels. So we had 3 correct and 1 wrong"
   ]
  },
  {
   "cell_type": "markdown",
   "metadata": {},
   "source": [
    "We can even compare the predicted output to the actual labels with this "
   ]
  },
  {
   "cell_type": "code",
   "execution_count": 74,
   "metadata": {},
   "outputs": [
    {
     "name": "stdout",
     "output_type": "stream",
     "text": [
      "tensor([3, 8, 8, 8])\n",
      "tensor([3, 8, 8, 0])\n",
      "tensor([ True,  True,  True, False])\n",
      "3\n"
     ]
    }
   ],
   "source": [
    "output=outputs.argmax(dim=1)\n",
    "print(output)\n",
    "print (labels)\n",
    "\n",
    "# Now we  have to compare output to labels\n",
    "compare=output.eq(labels)\n",
    "print(compare)\n",
    "print(compare.sum().item())    ## So we have 3 correct predictions"
   ]
  },
  {
   "cell_type": "code",
   "execution_count": 76,
   "metadata": {},
   "outputs": [
    {
     "data": {
      "text/plain": [
       "50000"
      ]
     },
     "execution_count": 76,
     "metadata": {},
     "output_type": "execute_result"
    }
   ],
   "source": [
    "len(trainset)"
   ]
  },
  {
   "cell_type": "code",
   "execution_count": 77,
   "metadata": {},
   "outputs": [
    {
     "name": "stdout",
     "output_type": "stream",
     "text": [
      "Accuracy of the network on the 10000 test images: 53 %\n"
     ]
    }
   ],
   "source": [
    "# Lets test it on the complete test batches\n",
    "correct = 0\n",
    "total = 0\n",
    "with torch.no_grad():\n",
    "    for data in testloader:\n",
    "        images, labels = data\n",
    "        outputs = net(images)\n",
    "        _, predicted = torch.max(outputs.data, 1)\n",
    "        total += labels.size(0)\n",
    "        correct += (predicted == labels).sum().item()\n",
    "\n",
    "print('Accuracy of the network on the 10000 test images: %d %%' % (\n",
    "    100 * correct / total))"
   ]
  },
  {
   "cell_type": "markdown",
   "metadata": {},
   "source": [
    "Lets find out the accuracy of every class"
   ]
  },
  {
   "cell_type": "code",
   "execution_count": 83,
   "metadata": {},
   "outputs": [
    {
     "name": "stdout",
     "output_type": "stream",
     "text": [
      "Accurac of  plane  :  60.9\n",
      "Accurac of  car  :  67.4\n",
      "Accurac of  bird  :  63.3\n",
      "Accurac of  cat  :  25.5\n",
      "Accurac of  deer  :  29.1\n",
      "Accurac of  dog  :  39.6\n",
      "Accurac of  frog  :  72.3\n",
      "Accurac of  horse  :  60.3\n",
      "Accurac of  ship  :  70.0\n",
      "Accurac of  truck  :  47.7\n"
     ]
    }
   ],
   "source": [
    "class_correct = list(0. for i in range(10))\n",
    "class_total = list(0. for i in range(10))\n",
    "with torch.no_grad():\n",
    "    for data in testloader:\n",
    "        images,labels=data\n",
    "        output=net(images)\n",
    "        pred=output.argmax(dim=1)\n",
    "        c=pred.eq(labels)\n",
    "        for i in range(4):     ## Because the batch size is 4\n",
    "            label=labels[i]\n",
    "            class_correct[label]+=c[i].item()\n",
    "            class_total[label]+=1\n",
    "for i in range(10):\n",
    "    print(\"Accuracy of \", classes[i], \" : \", class_correct[i]*100/class_total[i] )"
   ]
  },
  {
   "cell_type": "code",
   "execution_count": null,
   "metadata": {},
   "outputs": [],
   "source": []
  }
 ],
 "metadata": {
  "kernelspec": {
   "display_name": "Python 3",
   "language": "python",
   "name": "python3"
  },
  "language_info": {
   "codemirror_mode": {
    "name": "ipython",
    "version": 3
   },
   "file_extension": ".py",
   "mimetype": "text/x-python",
   "name": "python",
   "nbconvert_exporter": "python",
   "pygments_lexer": "ipython3",
   "version": "3.7.4"
  }
 },
 "nbformat": 4,
 "nbformat_minor": 2
}
